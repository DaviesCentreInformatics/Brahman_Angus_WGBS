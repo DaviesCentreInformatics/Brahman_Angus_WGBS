{
 "cells": [
  {
   "cell_type": "code",
   "execution_count": null,
   "metadata": {},
   "outputs": [],
   "source": [
    "from scipy.stats import wilcoxon\n",
    "import pandas as pd\n",
    "import numpy as np\n",
    "from tqdm import tqdm\n",
    "from pyfaidx import Fasta\n",
    "import re\n",
    "from statsmodels.stats.multitest import multipletests"
   ]
  },
  {
   "cell_type": "code",
   "execution_count": null,
   "metadata": {},
   "outputs": [],
   "source": [
    "# Repeat for each of the four groups\n",
    "group = 'BxB'\n",
    "\n",
    "a = pd.read_csv(f'{group}_cpg_methylation_mapped_to_angus.bed', sep='\\t', header=None,\n",
    "\t\t\t\tdtype={0:str, 1:int, 2:int})\n",
    "    # a = a.copy()\n",
    "    # a['a_id'] = a[0].astype(str) + ':' + a[1].astype(str) + '-' + a[2].astype(str)\n",
    "a['coord_id'] = a[0].astype(str) + ':' + a[1].astype(str) + '-' + a[2].astype(str)\n",
    "\n",
    "\n",
    "b = pd.read_csv(f'{group}_cpg_methylation_mapped_to_brahman.bed', sep='\\t', header=None,\n",
    "\t\t\t\tdtype={0:str, 1:int, 2:int})\n",
    "    # b = b.copy()\n",
    "    # b['b_id'] = b[0].astype(str) + ':' + b[1].astype(str) + '-' + b[2].astype(str)\n"
   ]
  },
  {
   "cell_type": "code",
   "execution_count": null,
   "metadata": {},
   "outputs": [],
   "source": [
    "print(a['coord_id'].nunique())\n",
    "print(b[3].nunique())"
   ]
  },
  {
   "cell_type": "code",
   "execution_count": null,
   "metadata": {},
   "outputs": [],
   "source": [
    "# Create a dictionary where the key is the 1Mb window id and the value is\n",
    "# another dictionary. The inner dictionary will have the keys 'angus' and\n",
    "# 'brahman' where the values are a vector of methylation values.\n",
    "data = {}\n",
    "for row in tqdm(a.itertuples(), total=len(a)):\n",
    "\tcoord_id = row.coord_id\n",
    "\ttry:\n",
    "\t\tmethyl = (str(row._7).split(','))\n",
    "\t\tmethyl = [float(x) for x in methyl]\n",
    "\texcept ValueError:\n",
    "\t\tmethyl = [np.nan]*6\n",
    "\n",
    "\tif coord_id not in data:\n",
    "\t\tdata[coord_id] = {'angus': [], 'brahman': []}\n",
    "\tdata[coord_id]['angus'].extend(methyl)\n",
    "\n",
    "for row in tqdm(b.itertuples(), total=len(b)):\n",
    "\tcoord_id = row[4]\n",
    "\ttry:\n",
    "\t\tmethyl = (str(row._8).split(','))\n",
    "\t\tmethyl = [float(x) for x in methyl]\n",
    "\texcept ValueError:\n",
    "\t\tmethyl = [np.nan]*6\n",
    "\n",
    "\tif coord_id not in data:\n",
    "\t\tprint(f'{coord_id} not in data')\n",
    "\t\tdata[coord_id] = {'angus': [np.nan]*6,\n",
    "\t\t\t\t\t'brahman': []}\n",
    "\tdata[coord_id]['brahman'].extend(methyl)"
   ]
  },
  {
   "cell_type": "code",
   "execution_count": null,
   "metadata": {},
   "outputs": [],
   "source": [
    "p_vals = {'coord_id':[],\n",
    "\t\t  'mean_angus_methylation':[],\n",
    "\t\t  'mean_brahman_methylation':[],\n",
    "\t\t  'p_val':[]}\n",
    "uncomparable = {'coord_id':[],\n",
    "\t\t\t\t'mean_angus_methylation':[],\n",
    "\t\t\t\t'mean_brahman_methylation':[]}\n",
    "\n",
    "for k in tqdm(data.keys()):\n",
    "\ta = np.array(data[k]['angus'])\n",
    "\tb = np.array(data[k]['brahman'])\n",
    "\tif np.nan in a or np.nan in b:\n",
    "\t\tuncomparable['coord_id'].append(k)\n",
    "\t\tuncomparable['mean_angus_methylation'].append(np.nanmean(a))\n",
    "\t\tuncomparable['mean_brahman_methylation'].append(np.nanmean(b))\n",
    "\telse:\n",
    "\t\tp_vals['coord_id'].append(k)\n",
    "\t\tp_vals['mean_angus_methylation'].append(np.mean(a))\n",
    "\t\tp_vals['mean_brahman_methylation'].append(np.mean(b))\n",
    "\t\ttry:\n",
    "\t\t\tp_vals['p_val'].append(wilcoxon(a, b).pvalue)\n",
    "\t\texcept ValueError:\n",
    "\t\t\tp_vals['p_val'].append(1.)"
   ]
  },
  {
   "cell_type": "code",
   "execution_count": null,
   "metadata": {},
   "outputs": [],
   "source": [
    "x = pd.DataFrame(p_vals)\n",
    "\n",
    "# Drop rows where the p-value is nan\n",
    "x_no_na = x.dropna(subset=['p_val'])\n",
    "x_no_na = x_no_na.copy()\n",
    "\n",
    "\n",
    "x_no_na['padj'] = multipletests(x_no_na['p_val'].values, method='fdr_bh')[1]\n",
    "print((x_no_na[x_no_na['padj'] <= 0.05 ]).shape)\n",
    "x_no_na[x_no_na['padj'] <= 0.05 ].to_csv(f'{group}_ref_comparison_methylation_sig.csv', index=False)"
   ]
  }
 ],
 "metadata": {
  "kernelspec": {
   "display_name": "wgbs",
   "language": "python",
   "name": "python3"
  },
  "language_info": {
   "codemirror_mode": {
    "name": "ipython",
    "version": 3
   },
   "file_extension": ".py",
   "mimetype": "text/x-python",
   "name": "python",
   "nbconvert_exporter": "python",
   "pygments_lexer": "ipython3",
   "version": "3.10.14"
  }
 },
 "nbformat": 4,
 "nbformat_minor": 2
}
