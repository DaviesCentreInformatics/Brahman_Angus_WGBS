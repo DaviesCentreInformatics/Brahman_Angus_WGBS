{
 "cells": [
  {
   "cell_type": "code",
   "execution_count": 1,
   "metadata": {},
   "outputs": [],
   "source": [
    "from Bio import SeqIO\n",
    "import pandas as pd\n",
    "import re\n",
    "from pyfaidx import Fasta\n",
    "from tqdm import tqdm"
   ]
  },
  {
   "cell_type": "code",
   "execution_count": 2,
   "metadata": {},
   "outputs": [],
   "source": [
    "# Define the function that will find all 'CG'\n",
    "def findCpGs(chrom, genome, breed):\n",
    "    seq = str(genome[chrom].seq)\n",
    "    #comp_seq = str(genome[chrom].seq.complement())\n",
    "    cpg_coords = open(f'./{breed}_{chrom}.CpGs.bed', 'w')\n",
    "    #chrom = chrom.split('_')[0]\n",
    "    #cpg_comp_coords = open(f'./{chrom}.complement.CpGs.bed', 'w')\n",
    "\n",
    "    for match in re.finditer(r'cg', seq, re.IGNORECASE):\n",
    "        cpg_coords.write(f'{chrom}\\t{match.start()}\\t{match.start() + 2}\\t.\\t.\\t+\\n')\n",
    "    #    cpg_comp_coords.write(f'{chrom}\\t{match.start() + 1}\\t{match.start() + 2}\\t.\\t.\\t-\\n')\n",
    "    #for match in re.finditer(r'gc', comp_seq, re.IGNORECASE):\n",
    "    #    cpg_comp_coords.write(f'{chrom}\\t{match.start() + 1}\\t{match.start() + 2}\\t.\\t.\\t-\\n')\n",
    "\n",
    "    cpg_coords.close()\n",
    "    #cpg_comp_coords.close()\n",
    "\n",
    "    return"
   ]
  },
  {
   "cell_type": "code",
   "execution_count": null,
   "metadata": {},
   "outputs": [],
   "source": [
    "seq = [f'{str(i)}' for i in range(1,30)]\n",
    "\n",
    "path = 'path/to/your/reference_genome'\n",
    "\n",
    "genome = SeqIO.to_dict(\n",
    "    SeqIO.parse(path,'fasta'))\n",
    "\n",
    "for i in tqdm(seq):\n",
    "    findCpGs(chrom=i, genome = genome, breed = 'Brahman')\n",
    "\n",
    "cpg_window = 1002"
   ]
  },
  {
   "cell_type": "code",
   "execution_count": null,
   "metadata": {},
   "outputs": [],
   "source": [
    "\n",
    "path = 'path/to/your/reference_genome'\n",
    "for i in tqdm(range(1,30)):\n",
    "    cpg_fa = open(f'./Brahman_CpG/Brahman.CpGs.chr{i}.1kb.fa', 'w') # Where you want to save the new 1002bp CpG \"reads\".\n",
    "    window = int(cpg_window / 2)\n",
    "    #fasta = Fasta(path + 'Angus/Angus.ARS-UCD1.2.orientation.fa')\n",
    "    fasta = Fasta(path + 'Brahman_oriented2_ARS/Bos_indicus_hybrid.UOA_Brahman_1.ARS-UCD1.2.orientation.dna.toplevel.fa')\n",
    "    cpgs = pd.read_csv(f'./Brahman_CpG/beds/Brahman_{i}.CpGs.bed',\n",
    "                   header=None,\n",
    "                   index_col=None,\n",
    "                   sep='\\t',\n",
    "                   dtype={0:str,\n",
    "                          1:int,\n",
    "                          2:int,\n",
    "                          3:str,\n",
    "                          4:str,\n",
    "                          5:str})\n",
    "\n",
    "    # get 500 bp either side of the CpG.\n",
    "    for row in cpgs.itertuples():\n",
    "        #print(row)\n",
    "        if row[2] - window < 0:\n",
    "            continue\n",
    "            #start = 0\n",
    "            #stop = cpg_window + 2\n",
    "        elif row[3] + window > len(fasta[f'{i}']):\n",
    "            continue\n",
    "            #start = len(fasta[f'{i}']) - (cpg_window + 2)\n",
    "            #stop = len(fasta[f'{i}'])\n",
    "        else:\n",
    "            start = row[2] - window\n",
    "            stop = row[3] + window\n",
    "        seq = fasta[str(row[1])][start:stop]\n",
    "        assert len(seq) == int(cpg_window + 2), f'The length of the sequence is {len(seq)}\\n{seq}'\n",
    "        cpg_fa.write(f'>{row[1]}:{row[2]}-{row[3]} new_CpG_coordinate:{row[1]}:{start}-{stop}'\n",
    "              f'\\n{fasta[str(row[1])][start:stop]}\\n')\n",
    "    cpg_fa.close()"
   ]
  }
 ],
 "metadata": {
  "kernelspec": {
   "display_name": "methylation_dl",
   "language": "python",
   "name": "python3"
  },
  "language_info": {
   "codemirror_mode": {
    "name": "ipython",
    "version": 3
   },
   "file_extension": ".py",
   "mimetype": "text/x-python",
   "name": "python",
   "nbconvert_exporter": "python",
   "pygments_lexer": "ipython3",
   "version": "3.10.6"
  },
  "orig_nbformat": 4
 },
 "nbformat": 4,
 "nbformat_minor": 2
}
