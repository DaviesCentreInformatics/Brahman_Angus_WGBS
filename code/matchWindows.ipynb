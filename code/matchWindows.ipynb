{
 "cells": [
  {
   "cell_type": "code",
   "execution_count": null,
   "metadata": {},
   "outputs": [],
   "source": [
    "from scipy.stats import wilcoxon\n",
    "import pandas as pd\n",
    "import numpy as np\n",
    "from tqdm import tqdm\n",
    "from pyfaidx import Fasta\n",
    "import re"
   ]
  },
  {
   "cell_type": "markdown",
   "metadata": {},
   "source": [
    "## PAF format\n",
    "| col | type | description |\n",
    "| --- | ---- | ----------- |\n",
    "| 1   | str  | query sequence name |\n",
    "| 2   | int  | query sequence length |\n",
    "| 3   | int  | query start coordinate (0-based) |\n",
    "| 4   | int  | query end coordinate (0-based) |\n",
    "| 5   | str  | strand of the query sequence |\n",
    "| 6   | str  | target sequence name |\n",
    "| 7   | int  | target sequence length |\n",
    "| 8   | int  | target start coordinate (0-based) |\n",
    "| 9   | int  | target end coordinate (0-based) |\n",
    "| 10  | int  | number of residue matches |\n",
    "| 11  | int  | alignment block length |\n",
    "| 12  | int  | mapping quality (0-255), 255 = missing |\n"
   ]
  },
  {
   "cell_type": "code",
   "execution_count": null,
   "metadata": {},
   "outputs": [],
   "source": [
    "paf = pd.read_csv('Angus_100kb_windows_to_Brahman_ref.paf',\n",
    "\t\t\t\t  sep='\\t',\n",
    "\t\t\t\t  header=None,\n",
    "\t\t\t\t  usecols=[i for i in range(12)],\n",
    "\t\t\t\t  names = ['qname', 'qlen', 'qstart', 'qend', 'strand', 'tname',\n",
    "\t\t\t               'tlen', 'tstart', 'tend', 'matches', 'blockLen',\n",
    "\t\t\t\t\t\t   'mapQ'])\n",
    "paf['qchrom'] = paf['qname'].str.split(':').str[0]\n",
    "\n",
    "# Keep only alignments that are on the same chromosome\n",
    "paf = paf[paf['qchrom'] == paf['tname']]\n",
    "paf = paf[paf['mapQ'] == 60]\n",
    "paf = paf.loc[paf.groupby('qname')['blockLen'].idxmax()]\n",
    "# paf.head()"
   ]
  },
  {
   "cell_type": "code",
   "execution_count": null,
   "metadata": {},
   "outputs": [],
   "source": [
    "paf.shape"
   ]
  },
  {
   "cell_type": "code",
   "execution_count": null,
   "metadata": {},
   "outputs": [],
   "source": [
    "angus_windows = {'chrom':[],\n",
    "\t\t\t\t\t 'start':[],\n",
    "\t\t\t\t\t 'end':[]}\n",
    "angus_windows_brahman_coords = {'chrom':[],\n",
    "\t\t\t\t\t   'start':[],\n",
    "\t\t\t\t\t   'end':[],\n",
    "\t\t\t\t\t   'angus_coords':[]}\n",
    "\n",
    "\n",
    "for window in tqdm(paf.itertuples()):\n",
    "\t\n",
    "\tq_chrom, q_start, q_end = re.split(r'[:|-]', window.qname)\n",
    "\n",
    "\tif q_chrom == window.tname:\n",
    "\t\tangus_windows_brahman_coords['chrom'].append(q_chrom)\n",
    "\t\tangus_windows_brahman_coords['start'].append(q_start)\n",
    "\t\tangus_windows_brahman_coords['end'].append(q_end)\n",
    "\t\tangus_windows_brahman_coords['angus_coords'].append(f'{window.tname}:{window.tstart}-{window.tend}')\n",
    "\t\n",
    "\t\tangus_windows['chrom'].append(window.tname)\n",
    "\t\tangus_windows['start'].append(window.tstart)\n",
    "\t\tangus_windows['end'].append(window.tend)"
   ]
  },
  {
   "cell_type": "code",
   "execution_count": null,
   "metadata": {},
   "outputs": [],
   "source": [
    "pd.DataFrame(angus_windows).to_csv('filtered_Angus_100kb_windows.bed', sep='\\t', index=False, header=False)\n",
    "pd.DataFrame(angus_windows_brahman_coords).to_csv('filtered_Angus_100kb_windows_w_Brahman_coords.bed', sep='\\t', index=False, header=False)"
   ]
  },
  {
   "cell_type": "code",
   "execution_count": null,
   "metadata": {},
   "outputs": [],
   "source": [
    "# Load the CpG methylation data for all samples\n",
    "for group in ['AxA','AxB','BxA','BxB']:\n",
    "    methylation_calls_angus = pd.read_parquet('/Users/callummacphillamy/PhD/methylation_chapter/clean_gigascience_revisions/methylation_patterns/aligned2Angus/All.samples.meth.10X.parquet')\n",
    "    methylation_calls_angus = methylation_calls_angus[[i for i in methylation_calls_angus.columns if group in i]]\n",
    "    methylation_calls_brahman = pd.read_parquet('/Users/callummacphillamy/PhD/methylation_chapter/clean_gigascience_revisions/methylation_patterns/aligned2Brahman/All.samples.meth.10X.parquet')\n",
    "    methylation_calls_brahman = methylation_calls_brahman[[i for i in methylation_calls_angus.columns if group in i]]\n",
    "\n",
    "    # Convert the methylation calls to a bed file, chrom, start, stop, methylation (csv)\n",
    "    angus_angus_coord_methto_bed = {'chrom':[],\n",
    "\t\t\t\t\t\t\t\t'start':[],\n",
    "\t\t\t\t\t\t\t\t'stop':[],\n",
    "\t\t\t\t\t\t\t\t'methylation':[]}\n",
    "\n",
    "    angus_brahman_coord_methto_bed = {'chrom':[],\n",
    "\t\t\t\t\t\t\t\t  'start':[],\n",
    "\t\t\t\t\t\t\t\t  'stop':[],\n",
    "\t\t\t\t\t\t\t\t  'methylation':[]}\n",
    "\n",
    "    for row in tqdm(methylation_calls_angus.itertuples(), total=methylation_calls_angus.shape[0]):\n",
    "        #print(row)\n",
    "        chrom, start = row[0].split(':')[0:2]\n",
    "        stop = int(start) + 1\n",
    "        methylation = ','.join([str(i) for i in row[1:]])\n",
    "        angus_angus_coord_methto_bed['chrom'].append(chrom)\n",
    "        angus_angus_coord_methto_bed['start'].append(start)\n",
    "        angus_angus_coord_methto_bed['stop'].append(stop)\n",
    "        angus_angus_coord_methto_bed['methylation'].append(methylation)\n",
    "\n",
    "    for row in tqdm(methylation_calls_brahman.itertuples(), total=methylation_calls_brahman.shape[0]):\n",
    "        #print(row)\n",
    "        chrom, start = row[0].split(':')[0:2]\n",
    "        stop = int(start) + 1\n",
    "        methylation = ','.join([str(i) for i in row[1:]])\n",
    "        angus_brahman_coord_methto_bed['chrom'].append(chrom)\n",
    "        angus_brahman_coord_methto_bed['start'].append(start)\n",
    "        angus_brahman_coord_methto_bed['stop'].append(stop)\n",
    "        angus_brahman_coord_methto_bed['methylation'].append(methylation)\n",
    "\n",
    "    pd.DataFrame(angus_angus_coord_methto_bed).to_csv(f'{group}_angus_angus_coord_methto_bed_100kb.bed', sep='\\t', index=False, header=False)\n",
    "    pd.DataFrame(angus_brahman_coord_methto_bed).to_csv(f'{group}_angus_brahman_coord_methto_bed_100kb.bed', sep='\\t', index=False, header=False)"
   ]
  }
 ],
 "metadata": {
  "kernelspec": {
   "display_name": "wgbs",
   "language": "python",
   "name": "python3"
  },
  "language_info": {
   "codemirror_mode": {
    "name": "ipython",
    "version": 3
   },
   "file_extension": ".py",
   "mimetype": "text/x-python",
   "name": "python",
   "nbconvert_exporter": "python",
   "pygments_lexer": "ipython3",
   "version": "3.10.14"
  }
 },
 "nbformat": 4,
 "nbformat_minor": 2
}
