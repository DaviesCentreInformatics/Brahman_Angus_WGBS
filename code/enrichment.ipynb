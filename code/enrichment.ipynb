{
 "cells": [
  {
   "cell_type": "code",
   "execution_count": 14,
   "metadata": {},
   "outputs": [],
   "source": [
    "from scipy import stats\n",
    "import numpy as np"
   ]
  },
  {
   "attachments": {},
   "cell_type": "markdown",
   "metadata": {},
   "source": [
    "   The number of SNPs that affect a CpG site is 796,967.  \n",
    "The number of SNPs that affect a CpG site that also occurs within an SV is 8,795  \n",
    "The total number of SNPs identified between Brahman and Angus autosomes is 15,477,763  \n",
    "The length of the Brahman autosomes is: 2,478,073,158  \n",
    "The length of the Angus autosomes is: 2,468,157,877  "
   ]
  },
  {
   "cell_type": "code",
   "execution_count": 6,
   "metadata": {},
   "outputs": [
    {
     "name": "stdout",
     "output_type": "stream",
     "text": [
      "0.050922862690170406\n",
      "0.0062458862241548075\n",
      "8.333333333333334\n"
     ]
    }
   ],
   "source": [
    "cpg_snps = 796967\n",
    "cpg_snps_sv = 8795\n",
    "total_snps = 15477763\n",
    "brahman_len = 2478073158\n",
    "angus_len = 2468157877\n",
    "\n",
    "# The proportion of CpG SNPs in the autosomes that aren't introduced by SVs is:\n",
    "print((cpg_snps - cpg_snps_sv) / total_snps)\n",
    "\n",
    "# Compared to the proportion of SNPs in the autosomes:\n",
    "print(total_snps/brahman_len)\n",
    "\n",
    "# Enrichment of SNPs around CpG sites\n",
    "print(0.05 / 0.006)"
   ]
  },
  {
   "cell_type": "code",
   "execution_count": 8,
   "metadata": {},
   "outputs": [
    {
     "data": {
      "text/plain": [
       "BinomTestResult(k=788172, n=15477763, alternative='greater', statistic=0.050922862690170406, pvalue=0.0)"
      ]
     },
     "execution_count": 8,
     "metadata": {},
     "output_type": "execute_result"
    }
   ],
   "source": [
    "# Is this enrichment significant?\n",
    "stats.binomtest(k=(cpg_snps - cpg_snps_sv),\n",
    "                n=total_snps,\n",
    "                p=(total_snps / brahman_len),\n",
    "                alternative='greater')"
   ]
  },
  {
   "attachments": {},
   "cell_type": "markdown",
   "metadata": {},
   "source": [
    "The length of SVs identified between Brahman and Angus is 27,470,399   \n",
    "The length of the non-SVs identified between Brahman and Angus is 2,450,603,277  \n",
    "The number of CpGs that occur within SVs is 322,746.  \n",
    "The number of CpGs that occur in non-SVs is 25,476,532  "
   ]
  },
  {
   "cell_type": "code",
   "execution_count": 11,
   "metadata": {},
   "outputs": [
    {
     "name": "stdout",
     "output_type": "stream",
     "text": [
      "1.130060483065982\n"
     ]
    },
    {
     "data": {
      "text/plain": [
       "BinomTestResult(k=322726, n=27470399, alternative='greater', statistic=0.011748136603330734, pvalue=0.0)"
      ]
     },
     "execution_count": 11,
     "metadata": {},
     "output_type": "execute_result"
    }
   ],
   "source": [
    "cpg_sv = 322726\n",
    "non_sv_cpg = 25476532\n",
    "sv_len = 27470399\n",
    "not_sv_len = 2450603277\n",
    "# Fold enrichment of CpGs in SVs\n",
    "print((cpg_sv / sv_len) / (non_sv_cpg / not_sv_len))\n",
    "\n",
    "# Is this enrichment significant?\n",
    "stats.binomtest(k=cpg_sv, n=sv_len, p=(non_sv_cpg / not_sv_len), alternative='greater')"
   ]
  },
  {
   "attachments": {},
   "cell_type": "markdown",
   "metadata": {},
   "source": [
    "### Divergence between Brahman and Angus\n",
    "Using the SNPs and SVs to measure divergence between Brahman and Angus, we use:  \n",
    "\n",
    "Number of SNPs = 15477763  \n",
    "Length of SVs = 27470399  \n",
    "Number of SNPs that overlap with an SV = 8795  \n",
    "The length of the Brahman autosomes = 2478073158\n",
    "Total number of CpGs in Brahman = 25799915\n",
    "\n",
    "((snp.shape[0] + 27000000) - len(total_snp_sv_ol)) / sum(autos_len)"
   ]
  },
  {
   "cell_type": "code",
   "execution_count": 17,
   "metadata": {},
   "outputs": [
    {
     "name": "stdout",
     "output_type": "stream",
     "text": [
      "Genome-wide mutation rate: 0.017\n",
      "Compared to CpG mutation rate\n",
      "CpG mutation rate: 0.043\n"
     ]
    }
   ],
   "source": [
    "print(f'Genome-wide mutation rate: {np.around(((15477763 + 27470399) - 8795) / 2478073158, decimals=3)}')\n",
    "print('Compared to CpG mutation rate')\n",
    "print(f'CpG mutation rate: {np.around(((cpg_snps + cpg_sv) - cpg_snps_sv)/25799915, decimals=3)}')"
   ]
  },
  {
   "cell_type": "code",
   "execution_count": null,
   "metadata": {},
   "outputs": [],
   "source": []
  }
 ],
 "metadata": {
  "kernelspec": {
   "display_name": "methylation_dl",
   "language": "python",
   "name": "python3"
  },
  "language_info": {
   "codemirror_mode": {
    "name": "ipython",
    "version": 3
   },
   "file_extension": ".py",
   "mimetype": "text/x-python",
   "name": "python",
   "nbconvert_exporter": "python",
   "pygments_lexer": "ipython3",
   "version": "3.10.10"
  },
  "orig_nbformat": 4
 },
 "nbformat": 4,
 "nbformat_minor": 2
}
